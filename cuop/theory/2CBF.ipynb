{
 "cells": [
  {
   "cell_type": "markdown",
   "metadata": {},
   "source": [
    "\r\n",
    "2. 콘텐츠 기반 컨텐츠(Content Based Filtering)\r\n",
    "1) 켄텐츠에 포함되는 텍스트들을 (장르, 키워드, 감독 등) 선별한다.\r\n",
    "2) 정해진 열에 텍스트들을 전부 집어넣고 string 형태로 변환 (ex : \"호러 개그 액션\")\r\n",
    "3) 2)에서 구한 string에서 언급된 단어별로 count함.\r\n",
    "4) 각 단어별로 count한 것을 통해 백터화를 할 수가 있음\r\n",
    "5) 이제 각 벡터간의 거리를 측정함\r\n",
    "6) 벡터간의 거리가 적을수록 비슷한 콘텐츠임\r\n",
    "\r\n",
    "올인원에듀테크에서 포함시켜볼 텍스트들 : 장르, 성별, \r\n"
   ]
  },
  {
   "cell_type": "code",
   "execution_count": 1,
   "metadata": {},
   "outputs": [],
   "source": [
    "from ast import literal_eval\r\n",
    "import pandas as pd\r\n",
    "import numpy as np\r\n",
    "import warnings\r\n",
    "warnings.filterwarnings(action='ignore')\r\n",
    "movies = pd.read_csv('tmdb_5000_movies.csv')\r\n",
    "#movies2 = pd.read_csv('keywords.csv', encoding='utf-8')\r\n",
    "\r\n",
    "#movies['id']=movies['id'].astype(int)\r\n",
    "#movies2['id']=movies2['id'].astype(int)\r\n",
    "#movies = pd.merge(movies, movies2,on='id')\r\n",
    "movies_df = movies[['id','title', 'genres','keywords', 'vote_average', 'vote_count',\r\n",
    "                 'popularity', 'overview', 'production_companies']]\r\n",
    "\r\n",
    "movies_df['genres'] = movies_df['genres'].apply(literal_eval)\r\n",
    "movies_df['keywords'] = movies_df['keywords'].apply(literal_eval)\r\n",
    "movies_df['production_companies'] = movies_df['production_companies'].apply(literal_eval)\r\n",
    "# genres, keywords에서 id를 제외하고 name만 불러옴.\r\n",
    "movies_df['genres'] = movies_df['genres'].apply(lambda x: [y['name'] for y in x])\r\n",
    "movies_df['keywords'] = movies_df['keywords'].apply(lambda x: [y['name'] for y in x])\r\n",
    "movies_df['production_companies'] = movies_df['production_companies'].apply(lambda x: [y['name'] for y in x])"
   ]
  },
  {
   "cell_type": "code",
   "execution_count": 2,
   "metadata": {},
   "outputs": [
    {
     "name": "stdout",
     "output_type": "stream",
     "text": [
      "['Ingenious_Film_Partners', 'Twentieth_Century_Fox_Film_Corporation']\n"
     ]
    }
   ],
   "source": [
    "def connect(input):\r\n",
    "    for i in range(len(input)):\r\n",
    "        input[i] = input[i].replace(' ','_')\r\n",
    "    return input\r\n",
    "\r\n",
    "def cut_2_more(input, n = 2):\r\n",
    "    #print(input)\r\n",
    "    if(len(input) > n):\r\n",
    "        input = input[:n]\r\n",
    "    return input\r\n",
    "\r\n",
    "def sum_pro_genre(input):\r\n",
    "    return ' '.join(input['production_companies']) + ' ' + ' '.join(input['genres'])\r\n",
    "movies_df['genres'] = movies_df['genres'].apply(connect)\r\n",
    "movies_df['keywords'] = movies_df['keywords'].apply(connect)\r\n",
    "movies_df['production_companies'] = movies_df['production_companies'].apply(connect)\r\n",
    "#movies_df['genres'] = movies_df['genres'].apply(cut_2_more)\r\n",
    "#movies_df['keywords'] = movies_df['keywords'].apply(cut_2_more)\r\n",
    "movies_df['production_companies'] = movies_df['production_companies'].apply(cut_2_more)\r\n",
    "\r\n",
    "print(movies_df['production_companies'][0])\r\n",
    "movies_df['genres_literal'] = movies_df['genres'].apply(lambda x : (' ').join(x))\r\n",
    "movies_df['keywords_literal'] = movies_df['keywords'].apply(lambda x: (' ').join(x))\r\n",
    "movies_df['production_companies_literal'] = movies_df.apply(sum_pro_genre, axis = 1)"
   ]
  },
  {
   "cell_type": "code",
   "execution_count": 3,
   "metadata": {},
   "outputs": [
    {
     "data": {
      "text/plain": [
       "0       Ingenious_Film_Partners Twentieth_Century_Fox_...\n",
       "1       Walt_Disney_Pictures Jerry_Bruckheimer_Films A...\n",
       "2         Columbia_Pictures Danjaq Action Adventure Crime\n",
       "3       Legendary_Pictures Warner_Bros. Action Crime D...\n",
       "4       Walt_Disney_Pictures Action Adventure Science_...\n",
       "                              ...                        \n",
       "4798              Columbia_Pictures Action Crime Thriller\n",
       "4799                                       Comedy Romance\n",
       "4800    Front_Street_Pictures Muse_Entertainment_Enter...\n",
       "4801                                                     \n",
       "4802    rusty_bear_entertainment lucky_crow_films Docu...\n",
       "Name: production_companies_literal, Length: 4803, dtype: object"
      ]
     },
     "execution_count": 3,
     "metadata": {},
     "output_type": "execute_result"
    }
   ],
   "source": [
    "movies_df['production_companies_literal']"
   ]
  },
  {
   "cell_type": "code",
   "execution_count": 5,
   "metadata": {},
   "outputs": [
    {
     "name": "stdout",
     "output_type": "stream",
     "text": [
      "[[1.         0.8450897  0.48696815 ... 0.         0.         0.        ]\n",
      " [0.8450897  1.         0.5762325  ... 0.         0.         0.        ]\n",
      " [0.48696815 0.5762325  1.         ... 0.         0.         0.        ]]\n",
      "0.47676936989909646\n",
      "<class 'numpy.ndarray'>\n"
     ]
    }
   ],
   "source": [
    "# 모든 변수가 텍스트로 이루어졌으니 Countvectorizer로 feature 벡터화시키기\r\n",
    "# 경우에 따라 추가적으로 Lemmatization 추가해 토큰화 전용 함수 추가도 가능!\r\n",
    "\r\n",
    "from sklearn.metrics.pairwise import cosine_similarity\r\n",
    "from sklearn.feature_extraction.text import CountVectorizer\r\n",
    "from sklearn.feature_extraction.text import TfidfVectorizer\r\n",
    "\r\n",
    "cnt_vect = CountVectorizer(min_df=0, ngram_range=(1,2))\r\n",
    "keywords_vect = cnt_vect.fit_transform(movies_df['keywords_literal'])\r\n",
    "tfid_vect = TfidfVectorizer().fit_transform(movies_df['keywords_literal'])\r\n",
    "genres_vect = TfidfVectorizer().fit_transform(movies_df['genres_literal'])\r\n",
    "production_companies_vect = TfidfVectorizer().fit_transform(movies_df['production_companies_literal'])\r\n",
    "#genres_tfid_vect\r\n",
    "\r\n",
    "# 장르에 따른 영화별 코사인 유사도 추출\r\n",
    "genre_sim = cosine_similarity(genres_vect, genres_vect)\r\n",
    "keywords_sim = cosine_similarity(keywords_vect,keywords_vect)\r\n",
    "production_companies_sim = cosine_similarity(production_companies_vect,production_companies_vect)\r\n",
    "#tfid_sim = cosine_similarity(tfid_vect,tfid_vect)\r\n",
    "# 3개만 유사도행렬값 추출해보기\r\n",
    "print(genre_sim[:3])\r\n",
    "print(genre_sim[0][3133])\r\n",
    "print(type(genre_sim))"
   ]
  },
  {
   "cell_type": "code",
   "execution_count": 7,
   "metadata": {},
   "outputs": [
    {
     "name": "stdout",
     "output_type": "stream",
     "text": [
      "<class 'numpy.ndarray'>\n",
      "1.0\n"
     ]
    }
   ],
   "source": [
    "\r\n",
    "def sort_similar(input,output):\r\n",
    "    for i in range(len(input)):\r\n",
    "        output[i] = input[i].argsort()[::-1]\r\n",
    "production_companies_sim_idx = production_companies_sim.argsort()\r\n",
    "keywords_sim_idx = keywords_sim.argsort()\r\n",
    "genre_sim_idx = genre_sim.argsort()\r\n",
    "sort_similar(production_companies_sim,production_companies_sim_idx)\r\n",
    "sort_similar(genre_sim,genre_sim_idx)\r\n",
    "sort_similar(keywords_sim,keywords_sim_idx)\r\n",
    "print(type(genre_sim_idx))\r\n",
    "print(genre_sim[0][232])\r\n",
    "np.save(\"genre\",genre_sim_idx)\r\n"
   ]
  },
  {
   "cell_type": "code",
   "execution_count": 21,
   "metadata": {},
   "outputs": [
    {
     "name": "stdout",
     "output_type": "stream",
     "text": [
      "8    [Adventure, Fantasy, Family]\n",
      "Name: genres, dtype: object\n",
      "8    [witch, magic, broom, school_of_witchcraft, wi...\n",
      "Name: keywords, dtype: object\n",
      "                                                  title  \\\n",
      "114                 Harry Potter and the Goblet of Fire   \n",
      "1764                                       Return to Oz   \n",
      "32                                  Alice in Wonderland   \n",
      "15             The Chronicles of Narnia: Prince Caspian   \n",
      "109   The Chronicles of Narnia: The Voyage of the Da...   \n",
      "1322                                      City of Ember   \n",
      "175                                             The BFG   \n",
      "781                                            Inkheart   \n",
      "341   Percy Jackson & the Olympians: The Lightning T...   \n",
      "1999         The Adventurer: The Curse of the Midas Box   \n",
      "\n",
      "                            genres  \n",
      "114   [Adventure, Fantasy, Family]  \n",
      "1764  [Adventure, Family, Fantasy]  \n",
      "32    [Family, Fantasy, Adventure]  \n",
      "15    [Adventure, Family, Fantasy]  \n",
      "109   [Adventure, Family, Fantasy]  \n",
      "1322  [Adventure, Family, Fantasy]  \n",
      "175   [Adventure, Family, Fantasy]  \n",
      "781   [Adventure, Family, Fantasy]  \n",
      "341   [Adventure, Fantasy, Family]  \n",
      "1999  [Fantasy, Adventure, Family]  \n",
      "                                                  title  \\\n",
      "191            Harry Potter and the Prisoner of Azkaban   \n",
      "197            Harry Potter and the Philosopher's Stone   \n",
      "276             Harry Potter and the Chamber of Secrets   \n",
      "113           Harry Potter and the Order of the Phoenix   \n",
      "4534  Deceptive Practice: The Mysteries and Mentors ...   \n",
      "743                                     Practical Magic   \n",
      "1481                     Thunder and the House of Magic   \n",
      "237                          The Huntsman: Winter's War   \n",
      "37                           Oz: The Great and Powerful   \n",
      "1520                    The Incredible Burt Wonderstone   \n",
      "\n",
      "                                               keywords  \n",
      "191   [flying, traitor, magic, cutting_the_cord, chi...  \n",
      "197   [witch, christmas_party, magic, cutting_the_co...  \n",
      "276   [flying_car, witch, magic, cutting_the_cord, c...  \n",
      "113   [prophecy, witch, loss_of_lover, magic, cuttin...  \n",
      "4534                            [magic, woman_director]  \n",
      "743   [witch, magic, sorcery, love, curse, family_cu...  \n",
      "1481                                        [magic, 3d]  \n",
      "237    [witch, magic, fairy_tale, snow_white, huntsman]  \n",
      "37    [circus, witch, magic, hope, illusion, lost, m...  \n",
      "1520                                 [magic, las_vegas]  \n",
      "                                              title  \\\n",
      "191        Harry Potter and the Prisoner of Azkaban   \n",
      "197        Harry Potter and the Philosopher's Stone   \n",
      "113       Harry Potter and the Order of the Phoenix   \n",
      "276         Harry Potter and the Chamber of Secrets   \n",
      "239                                         Gravity   \n",
      "1246                              Quest for Camelot   \n",
      "2175                                      Ladyhawke   \n",
      "302   Legend of the Guardians: The Owls of Ga'Hoole   \n",
      "831                                    Tango & Cash   \n",
      "2685                       Exorcist II: The Heretic   \n",
      "\n",
      "                           production_companies_literal  \n",
      "191   1492_Pictures Heyday_films Adventure Fantasy F...  \n",
      "197   1492_Pictures Warner_Bros. Adventure Fantasy F...  \n",
      "113   Warner_Bros. Heyday_Films Adventure Fantasy Fa...  \n",
      "276   1492_Pictures Heyday_films Adventure Fantasy F...  \n",
      "239   Warner_Bros. Heyday_Films Science_Fiction Thri...  \n",
      "1246  Warner_Bros. Fantasy Animation Drama Romance F...  \n",
      "2175  Twentieth_Century_Fox_Film_Corporation Warner_...  \n",
      "302   Village_Roadshow_Pictures Warner_Bros. Animati...  \n",
      "831                Warner_Bros. Action Adventure Comedy  \n",
      "2685               Warner_Bros. Horror Thriller Fantasy  \n"
     ]
    }
   ],
   "source": [
    "# argsort를 이용해서 유사도가 높은 영화들의 index 추출\r\n",
    "#tfid_sim_idx = tfid_sim.argsort()[::-1]\r\n",
    "#sum_idx = (genre_sim + tfid_sim_idx).argsort()[::-1]\r\n",
    "#print(tfid_sim==keywords_sim_idx)\r\n",
    "# 특정 영화를 기준으로 선정해서 유사도가 높은 영화를 반환하는 함수 생성\r\n",
    "def find_sim_movie(df, sorted_idx, title_name, top_n=10):\r\n",
    "    # 비교기준으로 선정할 특정 영화 선정\r\n",
    "    title_movie = df[df['title'] == title_name]\r\n",
    "    # 비교기준 영화의 index.values를 할당해 유사도 행렬에서 비교기준 영화에 해당하는 유사도 행렬값을 찾자!\r\n",
    "    title_movie_idx = title_movie.index.values[0]\r\n",
    "    # 모든 영화끼리의 유사도 행렬에서 비교기준 영화에 대한 유사도행렬 찾아서 할당\r\n",
    "    sim_idx = sorted_idx[title_movie_idx]\r\n",
    "    top_sim_idx = np.array([])\r\n",
    "    pos = 0\r\n",
    "    while(len(top_sim_idx) < len(sim_idx) and len(top_sim_idx) < top_n):\r\n",
    "        if (sim_idx[pos] != title_movie_idx):\r\n",
    "            top_sim_idx = np.append(top_sim_idx,sim_idx[pos])\r\n",
    "        pos += 1\r\n",
    "    \r\n",
    "    # top_sim_idx는 2차원 array이기 때문에 1차원 array로 변경\r\n",
    "    #similar_movie = df.iloc[top_sim_idx]\r\n",
    "    similar_movie = df.iloc[top_sim_idx].sort_values('vote_average', ascending=False)\r\n",
    "    \r\n",
    "    return similar_movie\r\n",
    "\r\n",
    "movie_name = 'Harry Potter and the Half-Blood Prince'\r\n",
    "print(movies_df[movies_df['title'] == movie_name]['genres'])\r\n",
    "print(movies_df[movies_df['title'] == movie_name]['keywords'])\r\n",
    "#print(movies_df[movies_df['title'] == movie_name]['keywords'])\r\n",
    "similar_movies = find_sim_movie(movies_df, genre_sim_idx, movie_name)\r\n",
    "similar_movies_keyword = find_sim_movie(movies_df, keywords_sim_idx, movie_name)\r\n",
    "similar_movies_production = find_sim_movie(movies_df, production_companies_sim_idx, movie_name)\r\n",
    "#similar_movies_sum = find_sim_movie(movies_df, sum_idx, movie_name)\r\n",
    "#similar_movies_tfid = find_sim_movie(movies_df, tfid_sim_idx, movie_name)\r\n",
    "print(similar_movies[['title','genres']])\r\n",
    "print(similar_movies_keyword[['title','keywords']])\r\n",
    "print(similar_movies_production[['title','production_companies_literal']])\r\n",
    "#print(similar_movies_tfid[['title','genres']])"
   ]
  }
 ],
 "metadata": {
  "interpreter": {
   "hash": "a946e98956bcc838cb00ebe9ef446e2faa648a2fef8d41f146f5c3ea9d8a2e71"
  },
  "kernelspec": {
   "display_name": "Python 3.9.5 64-bit",
   "name": "python3"
  },
  "language_info": {
   "name": "python",
   "version": ""
  },
  "orig_nbformat": 4
 },
 "nbformat": 4,
 "nbformat_minor": 2
}
