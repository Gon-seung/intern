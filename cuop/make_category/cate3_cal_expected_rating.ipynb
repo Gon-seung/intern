{
 "cells": [
  {
   "cell_type": "markdown",
   "metadata": {},
   "source": [
    "# SVD 기반 협업 필터링(Collaborative Filtering)"
   ]
  },
  {
   "cell_type": "code",
   "execution_count": null,
   "metadata": {},
   "outputs": [],
   "source": [
    "# userID를 인자로 받으면 이 사람이 안 본 동영상 중에 가장 예상 평점 높은것의 movieID 반환"
   ]
  },
  {
   "cell_type": "code",
   "execution_count": 1,
   "metadata": {},
   "outputs": [],
   "source": [
    "from surprise import Reader, Dataset, SVD, accuracy\n",
    "import pandas as pd"
   ]
  },
  {
   "cell_type": "code",
   "execution_count": 2,
   "metadata": {},
   "outputs": [],
   "source": [
    "def createRatingMatrix(filename):   \n",
    "    data_frame = pd.read_csv(filename, sep=\"::\", usecols = [0, 1, 2], names = ['userID', 'movieID', 'rating'], engine = 'python')\n",
    "    return data_frame"
   ]
  },
  {
   "cell_type": "code",
   "execution_count": 3,
   "metadata": {},
   "outputs": [],
   "source": [
    "def createMovieMatrix(filename):   \n",
    "    data_frame = pd.read_csv(filename, sep=\"::\", usecols = [0, 1, 2], names = ['movieID', 'title', 'genres'], engine = 'python')\n",
    "    return data_frame"
   ]
  },
  {
   "cell_type": "code",
   "execution_count": 4,
   "metadata": {},
   "outputs": [],
   "source": [
    "def get_unseen_movies(ratings, movies, userID):\n",
    "     # 특정 userId가 평점을 매긴 모든 영화 리스트\n",
    "    seen_movies = ratings[ratings['userID']== userID]['movieID'].tolist()\n",
    "    \n",
    "    # 모든 영화명을 list 객체로 만듬. \n",
    "    total_movies = movies['movieID'].tolist()\n",
    "      \n",
    "    # 한줄 for + if문으로 안 본 영화 리스트 생성\n",
    "    unseen_movies = [ movie for movie in total_movies if movie not in seen_movies]\n",
    "    \n",
    "    return unseen_movies"
   ]
  },
  {
   "cell_type": "code",
   "execution_count": 5,
   "metadata": {},
   "outputs": [],
   "source": [
    "def recomm_best_movie_by_svd(algo, userID, unseen_movies):\n",
    "    \n",
    "    # 아직 보지 않은 영화의 예측 평점: prediction 객체 생성\n",
    "    predictions = []    \n",
    "    for movieID in unseen_movies:\n",
    "        predictions.append(algo.predict(userID, movieID))\n",
    "    \n",
    "    # 리스트 내의 prediction 객체의 est(예측값)를 기준으로 내림차순 정렬\n",
    "    def sortkey_est(pred):\n",
    "        return pred.est\n",
    "\n",
    "    predictions.sort(key=sortkey_est, reverse=True) # key에 리스트 내 객체의 정렬 기준을 입력\n",
    "    \n",
    "    # 상위 top-1개의 prediction 객체\n",
    "    top_prediction = predictions[0]\n",
    "\n",
    "    movie_id = int(top_prediction.iid)\n",
    "    \n",
    "    return movie_id"
   ]
  },
  {
   "cell_type": "code",
   "execution_count": 6,
   "metadata": {},
   "outputs": [],
   "source": [
    "user_ratings = createRatingMatrix('../ml-1m/ratings.dat')\n",
    "movie_info = createMovieMatrix('../ml-1m/movies.dat')"
   ]
  },
  {
   "cell_type": "code",
   "execution_count": 7,
   "metadata": {},
   "outputs": [],
   "source": [
    "reader = Reader()\n",
    "# load_from_df사용해서 데이터프레임을 데이터셋으로 로드\n",
    "# 인자에 userid-itemid-ratings 변수들이 포함된 데이터프레임형태로 넣어주면 됨!\n",
    "data = Dataset.load_from_df(user_ratings[['userID','movieID','rating']],reader=reader)"
   ]
  },
  {
   "cell_type": "code",
   "execution_count": 8,
   "metadata": {},
   "outputs": [
    {
     "data": {
      "text/plain": [
       "<surprise.prediction_algorithms.matrix_factorization.SVD at 0x7fca8b28c460>"
      ]
     },
     "execution_count": 8,
     "metadata": {},
     "output_type": "execute_result"
    }
   ],
   "source": [
    "algo = SVD(n_factors=20)\n",
    "# 전체 data 대상 학습 진행\n",
    "trainset = data.build_full_trainset()\n",
    "algo.fit(trainset)"
   ]
  },
  {
   "cell_type": "code",
   "execution_count": 9,
   "metadata": {},
   "outputs": [],
   "source": [
    "# 1번 유저에 대해 계산\n",
    "unseen_movies = get_unseen_movies(user_ratings, movie_info, 1)"
   ]
  },
  {
   "cell_type": "code",
   "execution_count": 10,
   "metadata": {},
   "outputs": [
    {
     "data": {
      "text/plain": [
       "953"
      ]
     },
     "execution_count": 10,
     "metadata": {},
     "output_type": "execute_result"
    }
   ],
   "source": [
    "#1번 유저에 대해 계산\n",
    "recomm_best_movie_by_svd(algo, 1, unseen_movies)"
   ]
  }
 ],
 "metadata": {
  "interpreter": {
   "hash": "1009c1d9c0660d1c18c1693c08223b3e4c35d48ce8b8ed2493b4e2a8092ba7bb"
  },
  "kernelspec": {
   "display_name": "Python 3.8.5 64-bit ('base': conda)",
   "name": "python3"
  },
  "language_info": {
   "codemirror_mode": {
    "name": "ipython",
    "version": 3
   },
   "file_extension": ".py",
   "mimetype": "text/x-python",
   "name": "python",
   "nbconvert_exporter": "python",
   "pygments_lexer": "ipython3",
   "version": "3.8.5"
  },
  "orig_nbformat": 4
 },
 "nbformat": 4,
 "nbformat_minor": 2
}