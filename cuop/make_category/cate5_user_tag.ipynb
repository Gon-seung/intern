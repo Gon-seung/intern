{
 "cells": [
  {
   "cell_type": "markdown",
   "source": [
    "함수 메모장\r\n",
    "파일 불러오기 : pd.read_csv('./tmdb_5000_credits.csv')\r\n",
    "상위 n개 행 불러오기 : df2.head(n)\r\n",
    "평균 : df2['행이름'].mean()\r\n",
    "상위 100n% 값들만 필터링하기 : df2['행이름'].quantile(1 - n)\r\n",
    "특정 행 검색 : df2.loc[조건식] (조건식 예시 : df2['행이름'] >= m)\r\n",
    "특정 열 검색 : df2.loc['행이름']\r\n",
    "각 행에 함수 적용 : q_movies.apply(함수명) (함수명 : 첫번째 parameter가 q_movies이여야함?)\r\n",
    "행 정렬 : q_movies.sort_values(열name, ascending=False)\r\n",
    "\r\n"
   ],
   "metadata": {}
  },
  {
   "cell_type": "code",
   "execution_count": 17,
   "source": [
    "input = 'Horror Crime Thriller'\r\n",
    "\r\n",
    "genres_list = ['Animation', 'Comedy', 'Family', 'Adventure', 'Fantasy', 'Romance', 'Drama', 'Action', 'Crime', 'Thriller', 'Horror', 'History', 'Science_Fiction',\r\n",
    " 'Mystery War', 'Foreign', 'Music', 'Documentary', 'Western', 'TV_Movie', 'Carousel_Productions', 'Vision_View_Entertainment', 'Telescene_Film_Group_Productions', \r\n",
    " 'Aniplex GoHands', 'BROSTA_TV', 'Mardock_Scramble_Production_Committee', 'Sentai_Filmworks', 'Odyssey_Media' ,'Pulser_Productions', 'Rogue_State', 'The_Cartel']\r\n",
    "genres_infor = 'Animation Comedy Family Adventure Fantasy Romance Drama Action Crime Thriller Horror History Science_Fiction Mystery War Foreign Music Documentary Western TV_Movie Carousel_Productions Vision_View_Entertainment Telescene_Film_Group_Productions Aniplex GoHands BROSTA_TV Mardock_Scramble_Production_Committee Sentai_Filmworks Odyssey_Media Pulser_Productions Rogue_State The_Cartel'\r\n",
    "# 32개의 장르\r\n",
    "\r\n",
    "from ast import literal_eval\r\n",
    "import pandas as pd\r\n",
    "import numpy as np\r\n",
    "content = pd.read_csv('lingo_ex_movie_small.csv')\r\n",
    "\r\n",
    "content.head(3)"
   ],
   "outputs": [
    {
     "output_type": "execute_result",
     "data": {
      "text/plain": [
       "   Unnamed: 0 belongs_to_collection  \\\n",
       "0        1039                   NaN   \n",
       "1        1133                   NaN   \n",
       "2        1682                   NaN   \n",
       "\n",
       "                                      genres     id production_companies  \\\n",
       "0  ['Crime', 'Drama', 'Mystery', 'Thriller']   1834   RKO Radio Pictures   \n",
       "1                         ['Crime', 'Drama']   7452             Elsevira   \n",
       "2                                 ['Comedy']  66894      Dimension Films   \n",
       "\n",
       "  release_date                                      title  vote_average  \\\n",
       "0   1944-12-09                           Murder, My Sweet           7.2   \n",
       "1   1989-09-10  The Cook, the Thief, His Wife & Her Lover           7.3   \n",
       "2   1998-03-27                                       Ride           6.8   \n",
       "\n",
       "   vote_count  series_num  \n",
       "0        48.0           0  \n",
       "1       137.0           0  \n",
       "2         4.0           0  "
      ],
      "text/html": [
       "<div>\n",
       "<style scoped>\n",
       "    .dataframe tbody tr th:only-of-type {\n",
       "        vertical-align: middle;\n",
       "    }\n",
       "\n",
       "    .dataframe tbody tr th {\n",
       "        vertical-align: top;\n",
       "    }\n",
       "\n",
       "    .dataframe thead th {\n",
       "        text-align: right;\n",
       "    }\n",
       "</style>\n",
       "<table border=\"1\" class=\"dataframe\">\n",
       "  <thead>\n",
       "    <tr style=\"text-align: right;\">\n",
       "      <th></th>\n",
       "      <th>Unnamed: 0</th>\n",
       "      <th>belongs_to_collection</th>\n",
       "      <th>genres</th>\n",
       "      <th>id</th>\n",
       "      <th>production_companies</th>\n",
       "      <th>release_date</th>\n",
       "      <th>title</th>\n",
       "      <th>vote_average</th>\n",
       "      <th>vote_count</th>\n",
       "      <th>series_num</th>\n",
       "    </tr>\n",
       "  </thead>\n",
       "  <tbody>\n",
       "    <tr>\n",
       "      <th>0</th>\n",
       "      <td>1039</td>\n",
       "      <td>NaN</td>\n",
       "      <td>['Crime', 'Drama', 'Mystery', 'Thriller']</td>\n",
       "      <td>1834</td>\n",
       "      <td>RKO Radio Pictures</td>\n",
       "      <td>1944-12-09</td>\n",
       "      <td>Murder, My Sweet</td>\n",
       "      <td>7.2</td>\n",
       "      <td>48.0</td>\n",
       "      <td>0</td>\n",
       "    </tr>\n",
       "    <tr>\n",
       "      <th>1</th>\n",
       "      <td>1133</td>\n",
       "      <td>NaN</td>\n",
       "      <td>['Crime', 'Drama']</td>\n",
       "      <td>7452</td>\n",
       "      <td>Elsevira</td>\n",
       "      <td>1989-09-10</td>\n",
       "      <td>The Cook, the Thief, His Wife &amp; Her Lover</td>\n",
       "      <td>7.3</td>\n",
       "      <td>137.0</td>\n",
       "      <td>0</td>\n",
       "    </tr>\n",
       "    <tr>\n",
       "      <th>2</th>\n",
       "      <td>1682</td>\n",
       "      <td>NaN</td>\n",
       "      <td>['Comedy']</td>\n",
       "      <td>66894</td>\n",
       "      <td>Dimension Films</td>\n",
       "      <td>1998-03-27</td>\n",
       "      <td>Ride</td>\n",
       "      <td>6.8</td>\n",
       "      <td>4.0</td>\n",
       "      <td>0</td>\n",
       "    </tr>\n",
       "  </tbody>\n",
       "</table>\n",
       "</div>"
      ]
     },
     "metadata": {},
     "execution_count": 17
    }
   ],
   "metadata": {}
  },
  {
   "cell_type": "code",
   "execution_count": 18,
   "source": [
    "content['genres'] = content['genres'].apply(literal_eval)\r\n",
    "content['genres_literal'] = content['genres'].apply(lambda x : (' ').join(x))\r\n",
    "content['genres_literal'].head(10)"
   ],
   "outputs": [
    {
     "output_type": "execute_result",
     "data": {
      "text/plain": [
       "0                         Crime Drama Mystery Thriller\n",
       "1                                          Crime Drama\n",
       "2                                               Comedy\n",
       "3                                       Drama Thriller\n",
       "4    Thriller Adventure Fantasy Science_Fiction Rom...\n",
       "5                                               Horror\n",
       "6                                        Comedy Horror\n",
       "7                                                Drama\n",
       "8                          Adventure Drama Romance War\n",
       "9                                               Comedy\n",
       "Name: genres_literal, dtype: object"
      ]
     },
     "metadata": {},
     "execution_count": 18
    }
   ],
   "metadata": {}
  },
  {
   "cell_type": "code",
   "execution_count": 19,
   "source": [
    "genres_list = []\r\n",
    "for i in range(len(content)):\r\n",
    "    gen_list = content.loc[i,'genres']\r\n",
    "    for j in gen_list:\r\n",
    "        if j not in genres_list:\r\n",
    "            genres_list.append(j)\r\n",
    "print(genres_list)\r\n",
    "genres_infor = ''\r\n",
    "for i in genres_list:\r\n",
    "    genres_infor += i + ' '\r\n",
    "print(genres_infor)"
   ],
   "outputs": [
    {
     "output_type": "stream",
     "name": "stdout",
     "text": [
      "['Crime', 'Drama', 'Mystery', 'Thriller', 'Comedy', 'Adventure', 'Fantasy', 'Science_Fiction', 'Romance', 'Horror', 'War', 'Documentary', 'Action', 'History', 'TV_Movie', 'Family', 'Animation', 'Foreign']\n",
      "Crime Drama Mystery Thriller Comedy Adventure Fantasy Science_Fiction Romance Horror War Documentary Action History TV_Movie Family Animation Foreign \n"
     ]
    }
   ],
   "metadata": {}
  },
  {
   "cell_type": "code",
   "execution_count": 20,
   "source": [
    "# 모든 변수가 텍스트로 이루어졌으니 Countvectorizer로 feature 벡터화시키기\r\n",
    "# 경우에 따라 추가적으로 Lemmatization 추가해 토큰화 전용 함수 추가도 가능!\r\n",
    "\r\n",
    "from sklearn.metrics.pairwise import cosine_similarity\r\n",
    "from sklearn.feature_extraction.text import TfidfVectorizer\r\n",
    "\r\n",
    "input_vect = TfidfVectorizer().fit_transform(pd.Series([input, genres_infor]))\r\n",
    "genres_vect = TfidfVectorizer().fit_transform(content['genres_literal'])\r\n",
    "\r\n",
    "# 장르에 따른 콘텐츠별 코사인 유사도 추출\r\n",
    "genre_sim = cosine_similarity(input_vect, genres_vect)"
   ],
   "outputs": [],
   "metadata": {}
  },
  {
   "cell_type": "code",
   "execution_count": 21,
   "source": [
    "\r\n",
    "def sort_similar(input):\r\n",
    "    for i in range(len(input)):\r\n",
    "        input[i] = input[i].argsort()[::-1]\r\n",
    "sort_similar(genre_sim)\r\n",
    "print(genre_sim)\r\n"
   ],
   "outputs": [
    {
     "output_type": "stream",
     "name": "stdout",
     "text": [
      "[[18. 43. 16.  0.  5.  1.  6. 28. 46.  3. 10. 22. 25. 49. 34. 38. 11.  4.\n",
      "   9. 15. 14. 13. 12. 41. 35. 40.  7. 42. 44. 45.  2. 47.  8. 17. 39. 19.\n",
      "  20. 21. 23. 48. 37. 26. 27. 36. 29. 30. 31. 32. 33. 24.]\n",
      " [41.  4. 11.  8. 20. 44. 13. 33. 16. 36. 23.  0. 43. 35. 24. 49. 25. 38.\n",
      "  42. 29. 39. 12. 18. 40. 17. 34. 22. 10.  3. 28. 46.  6.  1.  2.  7.  9.\n",
      "  48. 31. 14. 15. 19. 27. 21. 32.  5. 26. 45. 30. 37. 47.]]\n"
     ]
    }
   ],
   "metadata": {}
  },
  {
   "cell_type": "code",
   "execution_count": 22,
   "source": [
    "\r\n",
    "#print(input_sim_idx[0])\r\n",
    "answer = []\r\n",
    "answer2 = []\r\n",
    "for i in range(10):\r\n",
    "    answer.append(content.loc[genre_sim[0][i]][['title']])\r\n",
    "    answer2.append(content.loc[genre_sim[0][i]][['genres']])\r\n",
    "print(answer)\r\n",
    "print(answer2)\r\n",
    "\r\n",
    "\r\n"
   ],
   "outputs": [
    {
     "output_type": "stream",
     "name": "stdout",
     "text": [
      "[title    Man on a Ledge\n",
      "Name: 18, dtype: object, title    Dossier K.\n",
      "Name: 43, dtype: object, title    The Guard\n",
      "Name: 16, dtype: object, title    Murder, My Sweet\n",
      "Name: 0, dtype: object, title    Popcorn\n",
      "Name: 5, dtype: object, title    The Cook, the Thief, His Wife & Her Lover\n",
      "Name: 1, dtype: object, title    The Lair of the White Worm\n",
      "Name: 6, dtype: object, title    In the Eyes of the World\n",
      "Name: 28, dtype: object, title    Kóblic\n",
      "Name: 46, dtype: object, title    In Dreams\n",
      "Name: 3, dtype: object]\n",
      "[genres    [Action, Thriller, Crime]\n",
      "Name: 18, dtype: object, genres    [Action, Crime, Drama, Thriller]\n",
      "Name: 43, dtype: object, genres    [Action, Comedy, Thriller, Crime]\n",
      "Name: 16, dtype: object, genres    [Crime, Drama, Mystery, Thriller]\n",
      "Name: 0, dtype: object, genres    [Horror]\n",
      "Name: 5, dtype: object, genres    [Crime, Drama]\n",
      "Name: 1, dtype: object, genres    [Comedy, Horror]\n",
      "Name: 6, dtype: object, genres    [Thriller, Drama]\n",
      "Name: 28, dtype: object, genres    [Drama, Thriller]\n",
      "Name: 46, dtype: object, genres    [Drama, Thriller]\n",
      "Name: 3, dtype: object]\n"
     ]
    }
   ],
   "metadata": {}
  }
 ],
 "metadata": {
  "interpreter": {
   "hash": "a946e98956bcc838cb00ebe9ef446e2faa648a2fef8d41f146f5c3ea9d8a2e71"
  },
  "kernelspec": {
   "display_name": "Python 3.9.5 64-bit",
   "name": "python3"
  },
  "language_info": {
   "name": "python",
   "version": ""
  },
  "orig_nbformat": 4
 },
 "nbformat": 4,
 "nbformat_minor": 2
}