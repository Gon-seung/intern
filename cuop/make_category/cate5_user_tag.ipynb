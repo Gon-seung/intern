{
 "cells": [
  {
   "cell_type": "markdown",
   "metadata": {},
   "source": [
    "함수 메모장\r\n",
    "파일 불러오기 : pd.read_csv('./tmdb_5000_credits.csv')\r\n",
    "상위 n개 행 불러오기 : df2.head(n)\r\n",
    "평균 : df2['행이름'].mean()\r\n",
    "상위 100n% 값들만 필터링하기 : df2['행이름'].quantile(1 - n)\r\n",
    "특정 행 검색 : df2.loc[조건식] (조건식 예시 : df2['행이름'] >= m)\r\n",
    "특정 열 검색 : df2.loc['행이름']\r\n",
    "각 행에 함수 적용 : q_movies.apply(함수명) (함수명 : 첫번째 parameter가 q_movies이여야함?)\r\n",
    "행 정렬 : q_movies.sort_values(열name, ascending=False)\r\n",
    "\r\n"
   ]
  },
  {
   "cell_type": "code",
   "execution_count": 152,
   "metadata": {},
   "outputs": [],
   "source": [
    "input1 = 'Family' \r\n",
    "input2 = 'Science_Fiction' \r\n",
    "input3 = 'Horror'\r\n",
    "mix1 = input1 + ' ' + input2\r\n",
    "mix2 = input1 + ' ' + input3\r\n",
    "mix3 = input2 + ' ' + input3\r\n",
    "mix4 = input1 + ' ' + input2 + ' ' + input3\r\n",
    "mix5 = input1\r\n",
    "mix6 = input2\r\n",
    "mix7 = input3\r\n",
    "mix8 = input1 + ' ' + input1 + ' ' + input2\r\n",
    "from ast import literal_eval\r\n",
    "import pandas as pd\r\n",
    "import numpy as np\r\n",
    "import warnings\r\n",
    "warnings.filterwarnings(action='ignore')\r\n",
    "movies = pd.read_csv('tmdb_5000_movies.csv')\r\n",
    "\r\n",
    "movies_df = movies[['id','title', 'genres','keywords', 'vote_average', 'vote_count',\r\n",
    "                 'popularity', 'overview', 'production_companies']]\r\n",
    "\r\n",
    "movies_df['genres'] = movies_df['genres'].apply(literal_eval)\r\n",
    "movies_df['keywords'] = movies_df['keywords'].apply(literal_eval)\r\n",
    "movies_df['production_companies'] = movies_df['production_companies'].apply(literal_eval)\r\n",
    "# genres, keywords에서 id를 제외하고 name만 불러옴.\r\n",
    "movies_df['genres'] = movies_df['genres'].apply(lambda x: [y['name'] for y in x])\r\n",
    "movies_df['keywords'] = movies_df['keywords'].apply(lambda x: [y['name'] for y in x])\r\n",
    "movies_df['production_companies'] = movies_df['production_companies'].apply(lambda x: [y['name'] for y in x])"
   ]
  },
  {
   "cell_type": "code",
   "execution_count": 153,
   "metadata": {},
   "outputs": [
    {
     "name": "stdout",
     "output_type": "stream",
     "text": [
      "['Ingenious_Film_Partners', 'Twentieth_Century_Fox_Film_Corporation']\n"
     ]
    }
   ],
   "source": [
    "def connect(input):\r\n",
    "    for i in range(len(input)):\r\n",
    "        input[i] = input[i].replace(' ','_')\r\n",
    "    return input\r\n",
    "\r\n",
    "def cut_2_more(input, n = 2):\r\n",
    "    #print(input)\r\n",
    "    if(len(input) > n):\r\n",
    "        input = input[:n]\r\n",
    "    return input\r\n",
    "\r\n",
    "def sum_pro_genre(input):\r\n",
    "    return ' '.join(input['production_companies']) + ' ' + ' '.join(input['genres'])\r\n",
    "movies_df['genres'] = movies_df['genres'].apply(connect)\r\n",
    "movies_df['keywords'] = movies_df['keywords'].apply(connect)\r\n",
    "movies_df['production_companies'] = movies_df['production_companies'].apply(connect)\r\n",
    "#movies_df['genres'] = movies_df['genres'].apply(cut_2_more)\r\n",
    "#movies_df['keywords'] = movies_df['keywords'].apply(cut_2_more)\r\n",
    "movies_df['production_companies'] = movies_df['production_companies'].apply(cut_2_more)\r\n",
    "\r\n",
    "print(movies_df['production_companies'][0])\r\n",
    "movies_df['genres_literal'] = movies_df['genres'].apply(lambda x : (' ').join(x))\r\n",
    "movies_df['keywords_literal'] = movies_df['keywords'].apply(lambda x: (' ').join(x))\r\n",
    "movies_df['production_companies_literal'] = movies_df.apply(sum_pro_genre, axis = 1)"
   ]
  },
  {
   "cell_type": "code",
   "execution_count": 154,
   "metadata": {},
   "outputs": [
    {
     "name": "stdout",
     "output_type": "stream",
     "text": [
      "<class 'pandas.core.series.Series'>\n"
     ]
    }
   ],
   "source": [
    "movies_df['production_companies_literal']\r\n",
    "#print(movies_df['production_companies_literal'])\r\n",
    "print(type(movies_df['production_companies_literal']))"
   ]
  },
  {
   "cell_type": "code",
   "execution_count": 155,
   "metadata": {},
   "outputs": [
    {
     "name": "stdout",
     "output_type": "stream",
     "text": [
      "[[0.75734461 0.89617067 0.66128327 ... 0.         0.         0.        ]\n",
      " [0.3638146  0.2834963  0.32705952 ... 0.38871387 0.         0.23237766]]\n",
      "0.35072287622145343\n"
     ]
    }
   ],
   "source": [
    "# 모든 변수가 텍스트로 이루어졌으니 Countvectorizer로 feature 벡터화시키기\r\n",
    "# 경우에 따라 추가적으로 Lemmatization 추가해 토큰화 전용 함수 추가도 가능!\r\n",
    "\r\n",
    "from sklearn.metrics.pairwise import cosine_similarity\r\n",
    "from sklearn.feature_extraction.text import TfidfVectorizer\r\n",
    "\r\n",
    "keywords_vect = TfidfVectorizer().fit_transform(movies_df['keywords_literal'])\r\n",
    "genres_vect = TfidfVectorizer().fit_transform(movies_df['genres_literal'])\r\n",
    "production_companies_vect = TfidfVectorizer().fit_transform(movies_df['production_companies_literal'])\r\n",
    "\r\n",
    "genre_info = 'Action Adventure Fantasy Science_Fiction Crime Drama Thriller Animation Family Western Comedy Romance Horror Mystery History War Music Documentary Foreign TV_Movie'\r\n",
    "input_pandas = pd.Series([mix1,mix2,mix3,mix4,mix5,mix6 ,mix7,mix8, genre_info])\r\n",
    "input_vect = TfidfVectorizer().fit_transform(input_pandas)\r\n",
    "\r\n",
    "# 장르에 따른 영화별 코사인 유사도 추출\r\n",
    "input_sim = cosine_similarity(input_vect, genres_vect)\r\n",
    "#genre_sim = cosine_similarity(genres_vect, genres_vect)\r\n",
    "keywords_sim = cosine_similarity(keywords_vect,keywords_vect)\r\n",
    "production_companies_sim = cosine_similarity(production_companies_vect,production_companies_vect)\r\n",
    "#tfid_sim = cosine_similarity(tfid_vect,tfid_vect)\r\n",
    "# 3개만 유사도행렬값 추출해보기\r\n",
    "print(genre_sim[:3])\r\n",
    "print(genre_sim[0][3133])"
   ]
  },
  {
   "cell_type": "code",
   "execution_count": 156,
   "metadata": {},
   "outputs": [
    {
     "name": "stdout",
     "output_type": "stream",
     "text": [
      "[[4601 3904 1053 ... 3110 3109 2401]\n",
      " [2044 4625 1396 ... 3025 3024    0]\n",
      " [4466 2841 3736 ... 3019 3016 2401]\n",
      " ...\n",
      " [3015 3312 1823 ... 3055 3054    0]\n",
      " [4601 2427 2601 ... 3110 3109 2401]\n",
      " [ 665  370 2681 ... 4068 4400 4611]]\n"
     ]
    }
   ],
   "source": [
    "\r\n",
    "def sort_similar(input,output):\r\n",
    "    for i in range(len(input)):\r\n",
    "        output[i] = input[i].argsort()[::-1]\r\n",
    "production_companies_sim_idx = production_companies_sim.argsort()\r\n",
    "keywords_sim_idx = keywords_sim.argsort()\r\n",
    "genre_sim_idx = genre_sim.argsort()\r\n",
    "input_sim_idx = input_sim.argsort()\r\n",
    "sort_similar(input_sim,input_sim_idx)\r\n",
    "sort_similar(production_companies_sim,production_companies_sim_idx)\r\n",
    "sort_similar(genre_sim,genre_sim_idx)\r\n",
    "sort_similar(keywords_sim,keywords_sim_idx)\r\n",
    "print(input_sim_idx)\r\n"
   ]
  },
  {
   "cell_type": "code",
   "execution_count": 157,
   "metadata": {},
   "outputs": [
    {
     "name": "stdout",
     "output_type": "stream",
     "text": [
      "Rotor DR1\n",
      "The Little Vampire\n",
      "Vessel\n",
      "Prophecy\n",
      "Rodeo Girl\n",
      "Def-Con 4\n",
      "Sinister 2\n",
      "Rotor DR1\n"
     ]
    },
    {
     "data": {
      "text/plain": [
       "\"\\nprint(movies_df.loc[input_sim_idx[0][0]][['title','genres']])\\nprint(movies_df.loc[input_sim_idx[1][0]][['title','genres']])\\nprint(movies_df.loc[input_sim_idx[2][0]][['title','genres']])\\nprint(movies_df.loc[input_sim_idx[3][0]][['title','genres']])\\nprint(movies_df.loc[input_sim_idx[4][0]][['title','genres']])\\nprint(movies_df.loc[input_sim_idx[5][0]][['title','genres']])\\nprint(movies_df.loc[input_sim_idx[6][0]][['title','genres']])\\nprint(movies_df.loc[input_sim_idx[7][0]][['title','genres']])\\n\""
      ]
     },
     "execution_count": 157,
     "metadata": {},
     "output_type": "execute_result"
    }
   ],
   "source": [
    "\r\n",
    "#print(input_sim_idx[0])\r\n",
    "\r\n",
    "\r\n",
    "print(movies_df.loc[input_sim_idx[0][0]]['title'])\r\n",
    "print(movies_df.loc[input_sim_idx[1][0]]['title'])\r\n",
    "print(movies_df.loc[input_sim_idx[2][0]]['title'])\r\n",
    "print(movies_df.loc[input_sim_idx[3][0]]['title'])\r\n",
    "print(movies_df.loc[input_sim_idx[4][0]]['title'])\r\n",
    "print(movies_df.loc[input_sim_idx[5][0]]['title'])\r\n",
    "print(movies_df.loc[input_sim_idx[6][0]]['title'])\r\n",
    "print(movies_df.loc[input_sim_idx[7][0]]['title'])\r\n",
    "\r\n",
    "\r\n",
    "\"\"\"\r\n",
    "print(movies_df.loc[input_sim_idx[0][0]][['title','genres']])\r\n",
    "print(movies_df.loc[input_sim_idx[1][0]][['title','genres']])\r\n",
    "print(movies_df.loc[input_sim_idx[2][0]][['title','genres']])\r\n",
    "print(movies_df.loc[input_sim_idx[3][0]][['title','genres']])\r\n",
    "print(movies_df.loc[input_sim_idx[4][0]][['title','genres']])\r\n",
    "print(movies_df.loc[input_sim_idx[5][0]][['title','genres']])\r\n",
    "print(movies_df.loc[input_sim_idx[6][0]][['title','genres']])\r\n",
    "print(movies_df.loc[input_sim_idx[7][0]][['title','genres']])\r\n",
    "\"\"\""
   ]
  }
 ],
 "metadata": {
  "interpreter": {
   "hash": "a946e98956bcc838cb00ebe9ef446e2faa648a2fef8d41f146f5c3ea9d8a2e71"
  },
  "kernelspec": {
   "display_name": "Python 3.9.5 64-bit",
   "name": "python3"
  },
  "language_info": {
   "name": "python",
   "version": ""
  },
  "orig_nbformat": 4
 },
 "nbformat": 4,
 "nbformat_minor": 2
}