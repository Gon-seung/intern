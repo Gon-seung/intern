{
 "cells": [
  {
   "cell_type": "code",
   "execution_count": 10,
   "source": [
    "\r\n",
    "cate_like_list = {}\r\n",
    "cate_dislike_list = {}\r\n",
    "\r\n",
    "for i in range(11):\r\n",
    "    cate_like_list.update({'category' + str(i + 1) : 1.0})\r\n",
    "    cate_dislike_list.update({'category' + str(i + 1) : 1.0})\r\n",
    "\r\n",
    "series_save = []\r\n",
    "human_info = [cate_like_list, cate_dislike_list]\r\n",
    "print(cate_like_list)"
   ],
   "outputs": [
    {
     "output_type": "stream",
     "name": "stdout",
     "text": [
      "{'category1': 1.0, 'category2': 1.0, 'category3': 1.0, 'category4': 1.0, 'category5': 1.0, 'category6': 1.0, 'category7': 1.0, 'category8': 1.0, 'category9': 1.0, 'category10': 1.0, 'category11': 1.0}\n"
     ]
    }
   ],
   "metadata": {}
  },
  {
   "cell_type": "code",
   "execution_count": 11,
   "source": [
    "#1, 2 , 4, 5, 7, 9\r\n",
    "\r\n",
    "choose = ['category1','category2','category4','category5','category7','category9']\r\n",
    "\r\n",
    "\r\n",
    "while True:\r\n",
    "    print(choose)\r\n",
    "    select_num = int(input())\r\n",
    "    if(select_num not in [0,1,2,3,4,5]):\r\n",
    "        print(\"wrong num\")\r\n",
    "        select_num = int(input())\r\n",
    "    \r\n",
    "    cate_like_list[choose[select_num]] += 1\r\n",
    "    for i in range(6):\r\n",
    "        if(i != select_num):\r\n",
    "            cate_like_list[choose[i]] -= 0.2\r\n",
    "\r\n",
    "    select_num\r\n",
    "    sort_score = sorted(cate_like_list.items(), key=lambda item: item[1], reverse = True)\r\n",
    "    #print(sort_score)\r\n",
    "    for i in range(6):\r\n",
    "        choose[i] = sort_score[i][0]\r\n",
    "    \r\n",
    "\r\n",
    "    "
   ],
   "outputs": [
    {
     "output_type": "stream",
     "name": "stdout",
     "text": [
      "['category1', 'category2', 'category4', 'category5', 'category7', 'category9']\n",
      "['category1', 'category3', 'category6', 'category8', 'category10', 'category11']\n",
      "['category3', 'category1', 'category2', 'category4', 'category5', 'category6']\n",
      "['category3', 'category4', 'category1', 'category7', 'category8', 'category9']\n",
      "['category7', 'category3', 'category4', 'category1', 'category10', 'category11']\n"
     ]
    },
    {
     "output_type": "error",
     "ename": "ValueError",
     "evalue": "invalid literal for int() with base 10: ''",
     "traceback": [
      "\u001b[1;31m---------------------------------------------------------------------------\u001b[0m",
      "\u001b[1;31mValueError\u001b[0m                                Traceback (most recent call last)",
      "\u001b[1;32m<ipython-input-11-a18b0dae7b38>\u001b[0m in \u001b[0;36m<module>\u001b[1;34m\u001b[0m\n\u001b[0;32m      6\u001b[0m \u001b[1;32mwhile\u001b[0m \u001b[1;32mTrue\u001b[0m\u001b[1;33m:\u001b[0m\u001b[1;33m\u001b[0m\u001b[1;33m\u001b[0m\u001b[0m\n\u001b[0;32m      7\u001b[0m     \u001b[0mprint\u001b[0m\u001b[1;33m(\u001b[0m\u001b[0mchoose\u001b[0m\u001b[1;33m)\u001b[0m\u001b[1;33m\u001b[0m\u001b[1;33m\u001b[0m\u001b[0m\n\u001b[1;32m----> 8\u001b[1;33m     \u001b[0mselect_num\u001b[0m \u001b[1;33m=\u001b[0m \u001b[0mint\u001b[0m\u001b[1;33m(\u001b[0m\u001b[0minput\u001b[0m\u001b[1;33m(\u001b[0m\u001b[1;33m)\u001b[0m\u001b[1;33m)\u001b[0m\u001b[1;33m\u001b[0m\u001b[1;33m\u001b[0m\u001b[0m\n\u001b[0m\u001b[0;32m      9\u001b[0m     \u001b[1;32mif\u001b[0m\u001b[1;33m(\u001b[0m\u001b[0mselect_num\u001b[0m \u001b[1;32mnot\u001b[0m \u001b[1;32min\u001b[0m \u001b[1;33m[\u001b[0m\u001b[1;36m0\u001b[0m\u001b[1;33m,\u001b[0m\u001b[1;36m1\u001b[0m\u001b[1;33m,\u001b[0m\u001b[1;36m2\u001b[0m\u001b[1;33m,\u001b[0m\u001b[1;36m3\u001b[0m\u001b[1;33m,\u001b[0m\u001b[1;36m4\u001b[0m\u001b[1;33m,\u001b[0m\u001b[1;36m5\u001b[0m\u001b[1;33m]\u001b[0m\u001b[1;33m)\u001b[0m\u001b[1;33m:\u001b[0m\u001b[1;33m\u001b[0m\u001b[1;33m\u001b[0m\u001b[0m\n\u001b[0;32m     10\u001b[0m         \u001b[0mprint\u001b[0m\u001b[1;33m(\u001b[0m\u001b[1;34m\"wrong num\"\u001b[0m\u001b[1;33m)\u001b[0m\u001b[1;33m\u001b[0m\u001b[1;33m\u001b[0m\u001b[0m\n",
      "\u001b[1;31mValueError\u001b[0m: invalid literal for int() with base 10: ''"
     ]
    }
   ],
   "metadata": {}
  }
 ],
 "metadata": {
  "orig_nbformat": 4,
  "language_info": {
   "name": "python"
  }
 },
 "nbformat": 4,
 "nbformat_minor": 2
}